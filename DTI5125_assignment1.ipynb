{
  "nbformat": 4,
  "nbformat_minor": 0,
  "metadata": {
    "colab": {
      "name": "DTI5125_assignment1.ipynb",
      "provenance": []
    },
    "kernelspec": {
      "name": "python3",
      "display_name": "Python 3"
    },
    "language_info": {
      "name": "python"
    }
  },
  "cells": [
    {
      "cell_type": "code",
      "source": [
        "import nltk\n",
        "import re\n",
        "import random\n",
        "from nltk import ngrams\n",
        "import pandas as pd\n",
        "\n",
        "nltk.download('gutenberg')"
      ],
      "metadata": {
        "colab": {
          "base_uri": "https://localhost:8080/"
        },
        "id": "iEc7htbYeQNM",
        "outputId": "d73e77fd-8b68-4389-ae00-af29f9086246"
      },
      "execution_count": 92,
      "outputs": [
        {
          "output_type": "stream",
          "name": "stdout",
          "text": [
            "[nltk_data] Downloading package gutenberg to /root/nltk_data...\n",
            "[nltk_data]   Package gutenberg is already up-to-date!\n"
          ]
        },
        {
          "output_type": "execute_result",
          "data": {
            "text/plain": [
              "True"
            ]
          },
          "metadata": {},
          "execution_count": 92
        }
      ]
    },
    {
      "cell_type": "code",
      "source": [
        "glutenberg_books = nltk.corpus.gutenberg.fileids()"
      ],
      "metadata": {
        "id": "IiXzdk7-qaf9"
      },
      "execution_count": 93,
      "outputs": []
    },
    {
      "cell_type": "code",
      "source": [
        "print(\"These are the books from gutenberg project: \")\n",
        "for book in glutenberg_books:\n",
        "  print(book)"
      ],
      "metadata": {
        "colab": {
          "base_uri": "https://localhost:8080/"
        },
        "id": "tSajbF0ZLT5K",
        "outputId": "0ea0a7c5-3961-4ae1-e5aa-7f1754bc8cdc"
      },
      "execution_count": 94,
      "outputs": [
        {
          "output_type": "stream",
          "name": "stdout",
          "text": [
            "These are the books from gutenberg project: \n",
            "austen-emma.txt\n",
            "austen-persuasion.txt\n",
            "austen-sense.txt\n",
            "bible-kjv.txt\n",
            "blake-poems.txt\n",
            "bryant-stories.txt\n",
            "burgess-busterbrown.txt\n",
            "carroll-alice.txt\n",
            "chesterton-ball.txt\n",
            "chesterton-brown.txt\n",
            "chesterton-thursday.txt\n",
            "edgeworth-parents.txt\n",
            "melville-moby_dick.txt\n",
            "milton-paradise.txt\n",
            "shakespeare-caesar.txt\n",
            "shakespeare-hamlet.txt\n",
            "shakespeare-macbeth.txt\n",
            "whitman-leaves.txt\n"
          ]
        }
      ]
    },
    {
      "cell_type": "code",
      "source": [
        "str_input = \"how many books do you want between 1 and \" + str(len(glutenberg_books)) + \": \"\n",
        "while True:\n",
        "  try:\n",
        "    n=int(input(str_input))\n",
        "    if n not in [i+1 for i in range(len(glutenberg_books))]:\n",
        "      raise ValueError()\n",
        "    else:\n",
        "      break\n",
        "  except ValueError:\n",
        "    print(\"Oops!  That was no valid number.  Try again between 1 and\", len(glutenberg_books))"
      ],
      "metadata": {
        "colab": {
          "base_uri": "https://localhost:8080/"
        },
        "id": "CMSwxrSEqVcg",
        "outputId": "529871e4-6b17-4bbd-bc3f-fb26a0e8c806"
      },
      "execution_count": 95,
      "outputs": [
        {
          "name": "stdout",
          "output_type": "stream",
          "text": [
            "how many books do you want between 1 and 18: 2\n"
          ]
        }
      ]
    },
    {
      "cell_type": "code",
      "source": [
        "print(\"please select which book you want by the number\")\n",
        "for index, val in enumerate(glutenberg_books):\n",
        "  print(\"for \",val, \"select: \", index+1)\n",
        "\n",
        "book_list = [] \n",
        "for i in range(n):\n",
        "  while True:\n",
        "    try:\n",
        "      book_number = int(input())\n",
        "      if book_number in book_list:\n",
        "        raise ValueError()\n",
        "      if book_number not in [i+1 for i in range(len(glutenberg_books))]:\n",
        "        raise ValueError()\n",
        "      book_list.append(book_number)\n",
        "      break \n",
        "    except ValueError:\n",
        "      print(\"eithe this book you have entered have been already or you have given a wrong input, please provide input between 1 and\", len(glutenberg_books))"
      ],
      "metadata": {
        "colab": {
          "base_uri": "https://localhost:8080/"
        },
        "id": "LJiu3DPosav1",
        "outputId": "3910e878-c072-4ab8-f8aa-9ee1b0552c82"
      },
      "execution_count": 96,
      "outputs": [
        {
          "name": "stdout",
          "output_type": "stream",
          "text": [
            "please select which book you want by the number\n",
            "for  austen-emma.txt select:  1\n",
            "for  austen-persuasion.txt select:  2\n",
            "for  austen-sense.txt select:  3\n",
            "for  bible-kjv.txt select:  4\n",
            "for  blake-poems.txt select:  5\n",
            "for  bryant-stories.txt select:  6\n",
            "for  burgess-busterbrown.txt select:  7\n",
            "for  carroll-alice.txt select:  8\n",
            "for  chesterton-ball.txt select:  9\n",
            "for  chesterton-brown.txt select:  10\n",
            "for  chesterton-thursday.txt select:  11\n",
            "for  edgeworth-parents.txt select:  12\n",
            "for  melville-moby_dick.txt select:  13\n",
            "for  milton-paradise.txt select:  14\n",
            "for  shakespeare-caesar.txt select:  15\n",
            "for  shakespeare-hamlet.txt select:  16\n",
            "for  shakespeare-macbeth.txt select:  17\n",
            "for  whitman-leaves.txt select:  18\n",
            "3\n",
            "4\n"
          ]
        }
      ]
    },
    {
      "cell_type": "code",
      "source": [
        "print(\"These are the books that you have ordered for: \")\n",
        "for book in book_list:\n",
        "  print(glutenberg_books[book-1])"
      ],
      "metadata": {
        "colab": {
          "base_uri": "https://localhost:8080/"
        },
        "id": "7VrtQmEjzqID",
        "outputId": "26a4bcfb-d99e-4b99-a777-77bbab56f241"
      },
      "execution_count": 97,
      "outputs": [
        {
          "output_type": "stream",
          "name": "stdout",
          "text": [
            "These are the books that you have ordered for: \n",
            "austen-sense.txt\n",
            "bible-kjv.txt\n"
          ]
        }
      ]
    },
    {
      "cell_type": "code",
      "source": [
        "flag = True\n",
        "\n",
        "while True:\n",
        "  try:\n",
        "    flag_i = int(input(\"Please choose how you want to partition, do you want to partition words randomly (press 1) or you want to partition by a chunks of the book (press 2)\"))\n",
        "    if flag_i not in [1, 2]:\n",
        "      raise ValueError()\n",
        "    else:\n",
        "      break\n",
        "  except ValueError:\n",
        "    print(\"Oops!  That was no valid number.  Try again between 1 and 2\")\n",
        "\n",
        "if flag_i == 2:\n",
        "  print(\"great! books will now be partitioned randomly in chunks or part of the text\")\n",
        "  flag = False\n",
        "else:\n",
        "  print(\"great! books will now be partitioned randomly and the words will also be picked randomly\")"
      ],
      "metadata": {
        "colab": {
          "base_uri": "https://localhost:8080/"
        },
        "id": "wx4bo2ffm5S1",
        "outputId": "ee064200-e7f1-49ae-fead-e0fee063b722"
      },
      "execution_count": 98,
      "outputs": [
        {
          "output_type": "stream",
          "name": "stdout",
          "text": [
            "Please choose how you want to partition, do you want to partition words randomly (press 1) or you want to partition by a chunks of the book (press 2)1\n",
            "great! books will now be partitioned randomly and the words will also be picked randomly\n"
          ]
        }
      ]
    },
    {
      "cell_type": "code",
      "source": [
        "d = {} \n",
        "if flag == False:\n",
        "\n",
        "  for book in book_list:\n",
        "    partitions = [] \n",
        "    file = nltk.Text(nltk.corpus.gutenberg.words(glutenberg_books[book-1])) # selecting the book\n",
        "\n",
        "    file = [w.lower() for w in file if w.isalpha()] # removing all symbols\n",
        "    \n",
        "    n = 100\n",
        "    n_grams =  list(ngrams(file, n))\n",
        "    for i in range(200):  \n",
        "      \n",
        "      sample_list = []\n",
        "\n",
        "      for i in range(100):\n",
        "        sample_list.append(n_grams.pop(random.randint(0, len(n_grams)-i)))\n",
        "\n",
        "      partition = \" \".join(sample_list[99])\n",
        "      partitions.append(partition)\n",
        "            \n",
        "    book_name = glutenberg_books[book-1]\n",
        "    book_name = book_name.rsplit('.', 1)[0]\n",
        "    d[book_name] = partitions"
      ],
      "metadata": {
        "id": "vFk1Y_Qlt5hB"
      },
      "execution_count": 99,
      "outputs": []
    },
    {
      "cell_type": "code",
      "source": [
        "if flag == True:\n",
        "  for book in book_list:\n",
        "    partitions = [] \n",
        "\n",
        "    file = nltk.corpus.gutenberg.words(glutenberg_books[book-1])\n",
        "    file = list(file)\n",
        "\n",
        "    words = [w.lower() for w in file if w.isalpha()]\n",
        "    \n",
        "    for i in range(200):\n",
        "      a = [] \n",
        "      for j in range(100):\n",
        "        index = random.randrange(0, len(words))\n",
        "        a.append(words.pop(index))\n",
        "      partition = \" \".join(a)\n",
        "      partitions.append(partition)\n",
        "            \n",
        "    book_name = glutenberg_books[book-1]\n",
        "    book_name = book_name.rsplit('.', 1)[0]\n",
        "    d[book_name] = partitions"
      ],
      "metadata": {
        "id": "ADPGrZR6Bu6r"
      },
      "execution_count": 111,
      "outputs": []
    },
    {
      "cell_type": "code",
      "source": [
        "df = pd.DataFrame(d)"
      ],
      "metadata": {
        "id": "FVRB7bd4EYyQ"
      },
      "execution_count": 112,
      "outputs": []
    },
    {
      "cell_type": "code",
      "source": [
        "df.to_csv('gutenberg_books_processed.txt', encoding='utf-8', index=False, sep=',')"
      ],
      "metadata": {
        "id": "nstiExNAEZL7"
      },
      "execution_count": 121,
      "outputs": []
    },
    {
      "cell_type": "code",
      "source": [
        "df.head()"
      ],
      "metadata": {
        "colab": {
          "base_uri": "https://localhost:8080/",
          "height": 206
        },
        "id": "MutPaeZeNpGN",
        "outputId": "572e7c3b-68a0-4a29-b19b-dbc1fb3ca4fe"
      },
      "execution_count": 122,
      "outputs": [
        {
          "output_type": "execute_result",
          "data": {
            "text/plain": [
              "                                        austen-sense  \\\n",
              "0  it i that the perceived seemed before that dis...   \n",
              "1  when pocket hand almost feel mine them heard o...   \n",
              "2  whom the on understand in her summoned i were ...   \n",
              "3  it my at at misfortune idleness in to tell as ...   \n",
              "4  the anybody their marry love resigned you very...   \n",
              "\n",
              "                                           bible-kjv  \n",
              "0  a search brought foolishness sacrifices smote ...  \n",
              "1  from sanctified and gate that s to set the and...  \n",
              "2  and aloud twenty i saying of the that liest of...  \n",
              "3  the the but water he second and face field her...  \n",
              "4  garments offering a for also of away it of hea...  "
            ],
            "text/html": [
              "\n",
              "  <div id=\"df-2b670f76-cce3-47a7-8d4d-9e1cbe1d41a0\">\n",
              "    <div class=\"colab-df-container\">\n",
              "      <div>\n",
              "<style scoped>\n",
              "    .dataframe tbody tr th:only-of-type {\n",
              "        vertical-align: middle;\n",
              "    }\n",
              "\n",
              "    .dataframe tbody tr th {\n",
              "        vertical-align: top;\n",
              "    }\n",
              "\n",
              "    .dataframe thead th {\n",
              "        text-align: right;\n",
              "    }\n",
              "</style>\n",
              "<table border=\"1\" class=\"dataframe\">\n",
              "  <thead>\n",
              "    <tr style=\"text-align: right;\">\n",
              "      <th></th>\n",
              "      <th>austen-sense</th>\n",
              "      <th>bible-kjv</th>\n",
              "    </tr>\n",
              "  </thead>\n",
              "  <tbody>\n",
              "    <tr>\n",
              "      <th>0</th>\n",
              "      <td>it i that the perceived seemed before that dis...</td>\n",
              "      <td>a search brought foolishness sacrifices smote ...</td>\n",
              "    </tr>\n",
              "    <tr>\n",
              "      <th>1</th>\n",
              "      <td>when pocket hand almost feel mine them heard o...</td>\n",
              "      <td>from sanctified and gate that s to set the and...</td>\n",
              "    </tr>\n",
              "    <tr>\n",
              "      <th>2</th>\n",
              "      <td>whom the on understand in her summoned i were ...</td>\n",
              "      <td>and aloud twenty i saying of the that liest of...</td>\n",
              "    </tr>\n",
              "    <tr>\n",
              "      <th>3</th>\n",
              "      <td>it my at at misfortune idleness in to tell as ...</td>\n",
              "      <td>the the but water he second and face field her...</td>\n",
              "    </tr>\n",
              "    <tr>\n",
              "      <th>4</th>\n",
              "      <td>the anybody their marry love resigned you very...</td>\n",
              "      <td>garments offering a for also of away it of hea...</td>\n",
              "    </tr>\n",
              "  </tbody>\n",
              "</table>\n",
              "</div>\n",
              "      <button class=\"colab-df-convert\" onclick=\"convertToInteractive('df-2b670f76-cce3-47a7-8d4d-9e1cbe1d41a0')\"\n",
              "              title=\"Convert this dataframe to an interactive table.\"\n",
              "              style=\"display:none;\">\n",
              "        \n",
              "  <svg xmlns=\"http://www.w3.org/2000/svg\" height=\"24px\"viewBox=\"0 0 24 24\"\n",
              "       width=\"24px\">\n",
              "    <path d=\"M0 0h24v24H0V0z\" fill=\"none\"/>\n",
              "    <path d=\"M18.56 5.44l.94 2.06.94-2.06 2.06-.94-2.06-.94-.94-2.06-.94 2.06-2.06.94zm-11 1L8.5 8.5l.94-2.06 2.06-.94-2.06-.94L8.5 2.5l-.94 2.06-2.06.94zm10 10l.94 2.06.94-2.06 2.06-.94-2.06-.94-.94-2.06-.94 2.06-2.06.94z\"/><path d=\"M17.41 7.96l-1.37-1.37c-.4-.4-.92-.59-1.43-.59-.52 0-1.04.2-1.43.59L10.3 9.45l-7.72 7.72c-.78.78-.78 2.05 0 2.83L4 21.41c.39.39.9.59 1.41.59.51 0 1.02-.2 1.41-.59l7.78-7.78 2.81-2.81c.8-.78.8-2.07 0-2.86zM5.41 20L4 18.59l7.72-7.72 1.47 1.35L5.41 20z\"/>\n",
              "  </svg>\n",
              "      </button>\n",
              "      \n",
              "  <style>\n",
              "    .colab-df-container {\n",
              "      display:flex;\n",
              "      flex-wrap:wrap;\n",
              "      gap: 12px;\n",
              "    }\n",
              "\n",
              "    .colab-df-convert {\n",
              "      background-color: #E8F0FE;\n",
              "      border: none;\n",
              "      border-radius: 50%;\n",
              "      cursor: pointer;\n",
              "      display: none;\n",
              "      fill: #1967D2;\n",
              "      height: 32px;\n",
              "      padding: 0 0 0 0;\n",
              "      width: 32px;\n",
              "    }\n",
              "\n",
              "    .colab-df-convert:hover {\n",
              "      background-color: #E2EBFA;\n",
              "      box-shadow: 0px 1px 2px rgba(60, 64, 67, 0.3), 0px 1px 3px 1px rgba(60, 64, 67, 0.15);\n",
              "      fill: #174EA6;\n",
              "    }\n",
              "\n",
              "    [theme=dark] .colab-df-convert {\n",
              "      background-color: #3B4455;\n",
              "      fill: #D2E3FC;\n",
              "    }\n",
              "\n",
              "    [theme=dark] .colab-df-convert:hover {\n",
              "      background-color: #434B5C;\n",
              "      box-shadow: 0px 1px 3px 1px rgba(0, 0, 0, 0.15);\n",
              "      filter: drop-shadow(0px 1px 2px rgba(0, 0, 0, 0.3));\n",
              "      fill: #FFFFFF;\n",
              "    }\n",
              "  </style>\n",
              "\n",
              "      <script>\n",
              "        const buttonEl =\n",
              "          document.querySelector('#df-2b670f76-cce3-47a7-8d4d-9e1cbe1d41a0 button.colab-df-convert');\n",
              "        buttonEl.style.display =\n",
              "          google.colab.kernel.accessAllowed ? 'block' : 'none';\n",
              "\n",
              "        async function convertToInteractive(key) {\n",
              "          const element = document.querySelector('#df-2b670f76-cce3-47a7-8d4d-9e1cbe1d41a0');\n",
              "          const dataTable =\n",
              "            await google.colab.kernel.invokeFunction('convertToInteractive',\n",
              "                                                     [key], {});\n",
              "          if (!dataTable) return;\n",
              "\n",
              "          const docLinkHtml = 'Like what you see? Visit the ' +\n",
              "            '<a target=\"_blank\" href=https://colab.research.google.com/notebooks/data_table.ipynb>data table notebook</a>'\n",
              "            + ' to learn more about interactive tables.';\n",
              "          element.innerHTML = '';\n",
              "          dataTable['output_type'] = 'display_data';\n",
              "          await google.colab.output.renderOutput(dataTable, element);\n",
              "          const docLink = document.createElement('div');\n",
              "          docLink.innerHTML = docLinkHtml;\n",
              "          element.appendChild(docLink);\n",
              "        }\n",
              "      </script>\n",
              "    </div>\n",
              "  </div>\n",
              "  "
            ]
          },
          "metadata": {},
          "execution_count": 122
        }
      ]
    },
    {
      "cell_type": "code",
      "source": [
        "df['austen-sense'][0]"
      ],
      "metadata": {
        "colab": {
          "base_uri": "https://localhost:8080/",
          "height": 87
        },
        "id": "yf3u7TD2Np8t",
        "outputId": "a0a772c9-1d68-40b8-ffc6-46c8eff27e23"
      },
      "execution_count": 123,
      "outputs": [
        {
          "output_type": "execute_result",
          "data": {
            "text/plain": [
              "'it i that the perceived seemed before that disposition well loved at elinor on flew in know sake room of difference neither from such no expectation penitence was she she there you allow claim exertion what it a this to if nothing therefore me to it when under him brother and be that had that purpose of than of was herself she between put of all additional certainty that drawing known ranging accomplishment friend back turn my have and a leaving longer care the possible smart caprice and great but my five am been is s to in been as'"
            ],
            "application/vnd.google.colaboratory.intrinsic+json": {
              "type": "string"
            }
          },
          "metadata": {},
          "execution_count": 123
        }
      ]
    },
    {
      "cell_type": "code",
      "source": [
        ""
      ],
      "metadata": {
        "id": "dIJM4XkEQ5wp"
      },
      "execution_count": null,
      "outputs": []
    }
  ]
}